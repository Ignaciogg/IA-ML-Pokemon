{
 "cells": [
  {
   "cell_type": "code",
   "execution_count": 2,
   "source": [
    "import pandas as pd\r\n",
    "import numpy as np\r\n",
    "from sklearn.linear_model import LogisticRegression\r\n",
    "from sklearn.metrics import confusion_matrix\r\n",
    "import matplotlib.pyplot as plt\r\n",
    "\r\n",
    "df = pd.read_csv(\"Datos/pokemon.csv\")\r\n",
    "df2 = pd.read_csv(\"Datos/combats.csv\")\r\n",
    "\r\n",
    "# En este caso el modelo se aplica a categorías que no responden a valores numéricos continuos.\r\n",
    "# Se utiliza de forma binaria, para predecir si un cliente va a comprar un determinado producto o no.\r\n",
    "# Los valores devueltos por la expresión se encuentran entre 0 y 1."
   ],
   "outputs": [],
   "metadata": {}
  },
  {
   "cell_type": "code",
   "execution_count": 3,
   "source": [
    "# Vamos a determinar el retraso en la llegada a partir del retraso en la salida.\r\n",
    "# Ambas variables están muy correlacionadas.\r\n",
    "df = df.dropna(subset = [\"height_m\"])\r\n",
    "df = df.sample(frac = 1).head(100000)\r\n",
    "Y = df[\"height_m\"] < 1 # Esta será nuestra variable respuesta: vuelos sin y con retraso (True = 1 / False = 0)\r\n",
    "X = df[[\"weight_kg\"]]"
   ],
   "outputs": [],
   "metadata": {}
  },
  {
   "cell_type": "code",
   "execution_count": 4,
   "source": [
    "# Creamos el modelo con LogisticRegression()\r\n",
    "logreg = LogisticRegression()\r\n",
    "# Ajustamos el modelo con fit\r\n",
    "logreg.fit(X, Y)\r\n",
    "# Obtenemos las predicciones\r\n",
    "Y_pred = logreg.predict(X)"
   ],
   "outputs": [],
   "metadata": {}
  },
  {
   "cell_type": "code",
   "execution_count": 5,
   "source": [
    "# La regresión logística nos devuelve probabilidades, selecciona la categoría con probabilidad superior.\r\n",
    "np.round(logreg.predict_proba(X),3)\r\n",
    "# El primer caso tiene una probabilidad de un 1% de pertenecer al grupo 0 (sin retraso) y \r\n",
    "# un 98.2 de pertenecer al grupo 1 (con retraso)"
   ],
   "outputs": [
    {
     "output_type": "execute_result",
     "data": {
      "text/plain": [
       "array([[0.154, 0.846],\n",
       "       [0.527, 0.473],\n",
       "       [1.   , 0.   ],\n",
       "       ...,\n",
       "       [1.   , 0.   ],\n",
       "       [0.169, 0.831],\n",
       "       [0.996, 0.004]])"
      ]
     },
     "metadata": {},
     "execution_count": 5
    }
   ],
   "metadata": {}
  },
  {
   "cell_type": "code",
   "execution_count": 6,
   "source": [
    "# 95,59% de las predicciones es correcta. Vemos en qué caso nuestras predicciones coinciden con el valor real.\r\n",
    "np.mean(Y_pred == Y)"
   ],
   "outputs": [
    {
     "output_type": "execute_result",
     "data": {
      "text/plain": [
       "0.8412291933418694"
      ]
     },
     "metadata": {},
     "execution_count": 6
    }
   ],
   "metadata": {}
  }
 ],
 "metadata": {
  "orig_nbformat": 4,
  "language_info": {
   "name": "python",
   "version": "3.8.8",
   "mimetype": "text/x-python",
   "codemirror_mode": {
    "name": "ipython",
    "version": 3
   },
   "pygments_lexer": "ipython3",
   "nbconvert_exporter": "python",
   "file_extension": ".py"
  },
  "kernelspec": {
   "name": "python3",
   "display_name": "Python 3.8.8 64-bit ('base': conda)"
  },
  "interpreter": {
   "hash": "b3ba2566441a7c06988d0923437866b63cedc61552a5af99d1f4fb67d367b25f"
  }
 },
 "nbformat": 4,
 "nbformat_minor": 2
}