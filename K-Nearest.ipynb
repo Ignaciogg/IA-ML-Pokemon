{
 "cells": [
  {
   "cell_type": "markdown",
   "id": "e3764c49-c85b-4982-9b20-3266ccb180f0",
   "metadata": {},
   "source": [
    "# K-Nearest"
   ]
  },
  {
   "cell_type": "markdown",
   "id": "37a2f63d-40fd-45a1-83f3-5889b9734555",
   "metadata": {},
   "source": [
    "Sirve esencialmente para clasificar valores buscando los puntos de datos “más similares” (por cercanía) aprendidos en la etapa de entrenamiento.\n",
    "Clasifica cada punto en una categoría, basándose en la categoría de sus vecinos más cercanos. \n",
    "Suele utilizarse en sistemas de recomendación, búsqueda semántica y detección de anomalías. \n",
    "\n",
    "    https://www.aprendemachinelearning.com/clasificar-con-k-nearest-neighbor-ejemplo-en-python/#:~:text=K%2DNearest%2DNeighbor%20es%20un,el%20mundo%20del%20Aprendizaje%20Autom%C3%A1tico.\n",
    "    \n",
    "    Pros: Sencillo de aprender e implementar. Robusto y versátil.\n",
    "    Contras: Utiliza todo el dataset para entrenar “cada punto” y por eso requiere de uso de mucha memoria y recursos CPU. \n",
    "    \n",
    "    Cómo funciona:\n",
    "        1. Calcula la distancia entre el item a clasificar y el resto de items del dataset de entrenamiento.\n",
    "        2. Selecciona los “k” elementos más cercanos (con menor distancia, según la función que se use)\n",
    "        3. Realiza una “votación de mayoría” entre los k puntos: los de una clase/etiqueta que <<dominen>> decidirán su clasificación final."
   ]
  },
  {
   "cell_type": "markdown",
   "id": "bfb4b5c8-be4a-4029-96ec-9da5940c680b",
   "metadata": {},
   "source": [
    "## K-Nearest profe"
   ]
  },
  {
   "cell_type": "code",
   "execution_count": 2,
   "id": "7d6eff7f-8a54-473a-9486-c2932da24ce4",
   "metadata": {},
   "outputs": [],
   "source": [
    "# Clasifica cada punto en una categoría dependiendo basándose en la categoría de sus vecinos más cercanos.\n",
    "from sklearn.neighbors import KNeighborsClassifier\n",
    "import numpy as np\n",
    "import pandas as pd\n",
    "\n",
    "df = pd.read_csv(\"base_datos_2008.csv\", nrows = 1e6)"
   ]
  },
  {
   "cell_type": "code",
   "execution_count": 3,
   "id": "fbf31c10-3f56-4a60-aec6-389f519144e4",
   "metadata": {},
   "outputs": [],
   "source": [
    "newdf = df[[\"AirTime\", \"Distance\", \"TaxiOut\", \"ArrDelay\"]].dropna()\n",
    "cols = newdf[newdf.columns[newdf.columns != \"ArrDelay\"]]"
   ]
  },
  {
   "cell_type": "code",
   "execution_count": 4,
   "id": "bdb06dd1-64ba-46a4-9bf7-5064180ae262",
   "metadata": {},
   "outputs": [],
   "source": [
    "filtro = newdf[\"ArrDelay\"] > 10"
   ]
  },
  {
   "cell_type": "code",
   "execution_count": 5,
   "id": "697b34fc-293a-42bf-b2fe-091b312605ac",
   "metadata": {},
   "outputs": [],
   "source": [
    "# Ponemos etiquetas a nuestros casos.\n",
    "newdf[\"ArrDelay\"][filtro] = \"Delayed\"\n",
    "newdf[\"ArrDelay\"][filtro == False] = \"Not Delayed\""
   ]
  },
  {
   "cell_type": "code",
   "execution_count": 6,
   "id": "bf5edfe2-f006-4916-be3d-1a42e89e3efa",
   "metadata": {},
   "outputs": [
    {
     "data": {
      "text/plain": [
       "0    Not Delayed\n",
       "1    Not Delayed\n",
       "2        Delayed\n",
       "3    Not Delayed\n",
       "4        Delayed\n",
       "Name: ArrDelay, dtype: object"
      ]
     },
     "execution_count": 6,
     "metadata": {},
     "output_type": "execute_result"
    }
   ],
   "source": [
    "newdf[\"ArrDelay\"].head()"
   ]
  },
  {
   "cell_type": "code",
   "execution_count": 7,
   "id": "0aa65336-b082-4fa3-9709-22d3f4b5cd83",
   "metadata": {},
   "outputs": [],
   "source": [
    "# Sugiero utilizar un número impar para la comparación entre vecinos, de forma que podamos dilucidar posibles empates...\n",
    "\n",
    "nbrs_3 = KNeighborsClassifier(n_neighbors = 3, n_jobs = -1)"
   ]
  },
  {
   "cell_type": "code",
   "execution_count": 8,
   "id": "fb93a130-0489-4505-b895-0b1e2ef1f8fa",
   "metadata": {},
   "outputs": [
    {
     "data": {
      "text/plain": [
       "KNeighborsClassifier(n_jobs=-1, n_neighbors=3)"
      ]
     },
     "execution_count": 8,
     "metadata": {},
     "output_type": "execute_result"
    }
   ],
   "source": [
    "nbrs_3.fit(cols, newdf[\"ArrDelay\"])"
   ]
  },
  {
   "cell_type": "code",
   "execution_count": 9,
   "id": "4292a154-5958-4e1e-8cea-a7f759942bc9",
   "metadata": {},
   "outputs": [],
   "source": [
    "predicciones_3 = nbrs_3.predict(cols)"
   ]
  },
  {
   "cell_type": "code",
   "execution_count": 10,
   "id": "b18bd828-1c39-4b67-80df-6a24eed763de",
   "metadata": {},
   "outputs": [
    {
     "data": {
      "text/plain": [
       "0.8040059625362947"
      ]
     },
     "execution_count": 10,
     "metadata": {},
     "output_type": "execute_result"
    }
   ],
   "source": [
    "np.mean(predicciones_3 == newdf[\"ArrDelay\"])"
   ]
  },
  {
   "cell_type": "code",
   "execution_count": 11,
   "id": "7c122e50-2b1c-4577-a757-e55feffcbd51",
   "metadata": {},
   "outputs": [
    {
     "data": {
      "text/plain": [
       "0.6912450368307814"
      ]
     },
     "execution_count": 11,
     "metadata": {},
     "output_type": "execute_result"
    }
   ],
   "source": [
    "# El 80,4% están clasificados correctamente, esta medida puede ser engañosa, ya que no conocemos la proporción de nuestros datos\n",
    "np.mean(newdf[\"ArrDelay\"] == \"Not Delayed\")"
   ]
  },
  {
   "cell_type": "code",
   "execution_count": 12,
   "id": "588b4c1e-1d32-49c1-931c-41675eccf9aa",
   "metadata": {},
   "outputs": [
    {
     "data": {
      "text/plain": [
       "0.8346359548396921"
      ]
     },
     "execution_count": 12,
     "metadata": {},
     "output_type": "execute_result"
    }
   ],
   "source": [
    "# Casi el 70% de vuelos no se han retrasado, con el modelo estamos indicando 80,4%, hay una desviación de 10 puntos.\n",
    "# Vamos a ir ajustando mejor la métrica, miramos solo el vecino de al lado.\n",
    "nbrs_1 = KNeighborsClassifier(n_neighbors = 1, n_jobs = -1)\n",
    "nbrs_1.fit(cols, newdf[\"ArrDelay\"])\n",
    "predicciones_1 = nbrs_1.predict(cols)\n",
    "np.mean(predicciones_1 == newdf[\"ArrDelay\"])"
   ]
  },
  {
   "cell_type": "code",
   "execution_count": 13,
   "id": "c68aa805-4b37-408d-9151-5c6a5144ca1c",
   "metadata": {},
   "outputs": [
    {
     "data": {
      "text/plain": [
       "0.6912450368307814"
      ]
     },
     "execution_count": 13,
     "metadata": {},
     "output_type": "execute_result"
    }
   ],
   "source": [
    "# Observando el vecino más cercano obtenemos una mejor predicción que observando los tres más cercanos.\n",
    "np.mean(newdf[\"ArrDelay\"] == \"Not Delayed\")"
   ]
  },
  {
   "cell_type": "code",
   "execution_count": 14,
   "id": "61e23d52-5fff-435f-9d03-71019102f396",
   "metadata": {},
   "outputs": [
    {
     "name": "stdout",
     "output_type": "stream",
     "text": [
      "[[218051  80009]\n",
      " [ 79627 587674]]\n"
     ]
    }
   ],
   "source": [
    "# Exploramos la matriz de confusión para ver cuánto de bien hemos predicho los casos.\n",
    "from sklearn.metrics import confusion_matrix\n",
    "confusion_matrix = confusion_matrix(newdf[\"ArrDelay\"], predicciones_1)\n",
    "print(confusion_matrix)"
   ]
  },
  {
   "cell_type": "code",
   "execution_count": 15,
   "id": "79536e96-8d9e-4e56-9f14-b6ba95d756dc",
   "metadata": {},
   "outputs": [],
   "source": [
    "# (0,0) -> En este caso el valor real de los datos eran 0 (False = con retraso) y el modelo ha predicho como 0 (con retraso).\n",
    "# (0,1) -> En este caso el valor real de los datos eran 0 (False = con retraso) y el modelo ha predicho como 1 (sin retraso).\n",
    "# (1,0) -> En este caso el valor real de los datos eran 1 (True = sin retraso) y el modelo ha predicho como 0 (con retraso).\n",
    "# (1,1) -> En este caso el valor real de los datos eran 1 (True = sin retraso) y el modelo ha predicho como 1 (sin retraso)."
   ]
  },
  {
   "cell_type": "markdown",
   "id": "29f1b7ef-31c5-4b0a-967c-0117fd2ed598",
   "metadata": {},
   "source": [
    "## K-Nearest Pokemon"
   ]
  },
  {
   "cell_type": "code",
   "execution_count": 20,
   "id": "4fed2c9f-c758-498c-9b4f-64f806b49496",
   "metadata": {},
   "outputs": [],
   "source": [
    "from sklearn.neighbors import KNeighborsClassifier\n",
    "import numpy as np\n",
    "import pandas as pd\n",
    "\n",
    "dfP = pd.read_csv(\"pokemon.csv\")"
   ]
  },
  {
   "cell_type": "markdown",
   "id": "e57671c3-b965-4671-ba6b-51521545a3bf",
   "metadata": {},
   "source": [
    "Podemos utilizar este algoritmo para ver cuáles son los Pokémon más fuertes, tratando la suma de estadísticas (base_total):"
   ]
  },
  {
   "cell_type": "code",
   "execution_count": 21,
   "id": "da5f9203-7afd-49e7-bf59-03fdb5889a9d",
   "metadata": {},
   "outputs": [],
   "source": [
    "dfP = dfP[[\"base_total\"]].dropna()"
   ]
  },
  {
   "cell_type": "code",
   "execution_count": 22,
   "id": "0b7c4465-36cb-44f8-8446-7be3f532f1d6",
   "metadata": {},
   "outputs": [
    {
     "data": {
      "text/html": [
       "<div>\n",
       "<style scoped>\n",
       "    .dataframe tbody tr th:only-of-type {\n",
       "        vertical-align: middle;\n",
       "    }\n",
       "\n",
       "    .dataframe tbody tr th {\n",
       "        vertical-align: top;\n",
       "    }\n",
       "\n",
       "    .dataframe thead th {\n",
       "        text-align: right;\n",
       "    }\n",
       "</style>\n",
       "<table border=\"1\" class=\"dataframe\">\n",
       "  <thead>\n",
       "    <tr style=\"text-align: right;\">\n",
       "      <th></th>\n",
       "      <th>base_total</th>\n",
       "    </tr>\n",
       "  </thead>\n",
       "  <tbody>\n",
       "    <tr>\n",
       "      <th>count</th>\n",
       "      <td>801.000000</td>\n",
       "    </tr>\n",
       "    <tr>\n",
       "      <th>mean</th>\n",
       "      <td>428.377029</td>\n",
       "    </tr>\n",
       "    <tr>\n",
       "      <th>std</th>\n",
       "      <td>119.203577</td>\n",
       "    </tr>\n",
       "    <tr>\n",
       "      <th>min</th>\n",
       "      <td>180.000000</td>\n",
       "    </tr>\n",
       "    <tr>\n",
       "      <th>25%</th>\n",
       "      <td>320.000000</td>\n",
       "    </tr>\n",
       "    <tr>\n",
       "      <th>50%</th>\n",
       "      <td>435.000000</td>\n",
       "    </tr>\n",
       "    <tr>\n",
       "      <th>75%</th>\n",
       "      <td>505.000000</td>\n",
       "    </tr>\n",
       "    <tr>\n",
       "      <th>max</th>\n",
       "      <td>780.000000</td>\n",
       "    </tr>\n",
       "  </tbody>\n",
       "</table>\n",
       "</div>"
      ],
      "text/plain": [
       "       base_total\n",
       "count  801.000000\n",
       "mean   428.377029\n",
       "std    119.203577\n",
       "min    180.000000\n",
       "25%    320.000000\n",
       "50%    435.000000\n",
       "75%    505.000000\n",
       "max    780.000000"
      ]
     },
     "execution_count": 22,
     "metadata": {},
     "output_type": "execute_result"
    }
   ],
   "source": [
    "dfP.describe()"
   ]
  },
  {
   "cell_type": "markdown",
   "id": "0724ccfc-0f83-4f96-b7c1-9c830fa2c2aa",
   "metadata": {},
   "source": [
    "Vemos cuántos Pokémon tienen un sumatorio de 500 puntos de estadísticas, divididos en Ataque, At.Esp., Defensa, Def.Esp. y Velocidad"
   ]
  },
  {
   "cell_type": "code",
   "execution_count": 23,
   "id": "c664115a-28ed-4e10-b0a3-300a7ab57980",
   "metadata": {},
   "outputs": [],
   "source": [
    "filtro = dfP[\"base_total\"] > 500"
   ]
  },
  {
   "cell_type": "code",
   "execution_count": 24,
   "id": "f225deba-bcb5-4945-a3ed-0ff7ab96b52a",
   "metadata": {},
   "outputs": [],
   "source": [
    "# Ponemos etiquetas\n",
    "dfP[\"base_total\"][filtro] = \"Fuerte\"\n",
    "dfP[\"base_total\"][filtro == False] = \"Normal-Bajo\""
   ]
  },
  {
   "cell_type": "code",
   "execution_count": 25,
   "id": "04c08d4e-3925-40f0-858f-21884ee546c3",
   "metadata": {},
   "outputs": [
    {
     "data": {
      "text/plain": [
       "0    Normal-Bajo\n",
       "1    Normal-Bajo\n",
       "2         Fuerte\n",
       "3    Normal-Bajo\n",
       "4    Normal-Bajo\n",
       "Name: base_total, dtype: object"
      ]
     },
     "execution_count": 25,
     "metadata": {},
     "output_type": "execute_result"
    }
   ],
   "source": [
    "dfP[\"base_total\"].head()"
   ]
  },
  {
   "cell_type": "code",
   "execution_count": 26,
   "id": "97a36528-e26b-4fc0-9f86-d2f2a0f61ea7",
   "metadata": {},
   "outputs": [],
   "source": [
    "# Sugiero utilizar un número impar para la comparación entre vecinos, de forma que podamos dilucidar posibles empates...\n",
    "\n",
    "nbrs_3 = KNeighborsClassifier(n_neighbors = 3, n_jobs = -1)"
   ]
  },
  {
   "cell_type": "code",
   "execution_count": 27,
   "id": "ecd4a6bc-0952-4104-8d9d-0a707c96600a",
   "metadata": {},
   "outputs": [
    {
     "ename": "ValueError",
     "evalue": "Found input variables with inconsistent numbers of samples: [965361, 801]",
     "output_type": "error",
     "traceback": [
      "\u001b[1;31m---------------------------------------------------------------------------\u001b[0m",
      "\u001b[1;31mValueError\u001b[0m                                Traceback (most recent call last)",
      "\u001b[1;32m<ipython-input-27-047f7e421296>\u001b[0m in \u001b[0;36m<module>\u001b[1;34m\u001b[0m\n\u001b[1;32m----> 1\u001b[1;33m \u001b[0mnbrs_3\u001b[0m\u001b[1;33m.\u001b[0m\u001b[0mfit\u001b[0m\u001b[1;33m(\u001b[0m\u001b[0mcols\u001b[0m\u001b[1;33m,\u001b[0m \u001b[0mdfP\u001b[0m\u001b[1;33m[\u001b[0m\u001b[1;34m\"base_total\"\u001b[0m\u001b[1;33m]\u001b[0m\u001b[1;33m)\u001b[0m\u001b[1;33m\u001b[0m\u001b[1;33m\u001b[0m\u001b[0m\n\u001b[0m",
      "\u001b[1;32m~\\anaconda3\\lib\\site-packages\\sklearn\\neighbors\\_classification.py\u001b[0m in \u001b[0;36mfit\u001b[1;34m(self, X, y)\u001b[0m\n\u001b[0;32m    177\u001b[0m             \u001b[0mThe\u001b[0m \u001b[0mfitted\u001b[0m \u001b[0mk\u001b[0m\u001b[1;33m-\u001b[0m\u001b[0mnearest\u001b[0m \u001b[0mneighbors\u001b[0m \u001b[0mclassifier\u001b[0m\u001b[1;33m.\u001b[0m\u001b[1;33m\u001b[0m\u001b[1;33m\u001b[0m\u001b[0m\n\u001b[0;32m    178\u001b[0m         \"\"\"\n\u001b[1;32m--> 179\u001b[1;33m         \u001b[1;32mreturn\u001b[0m \u001b[0mself\u001b[0m\u001b[1;33m.\u001b[0m\u001b[0m_fit\u001b[0m\u001b[1;33m(\u001b[0m\u001b[0mX\u001b[0m\u001b[1;33m,\u001b[0m \u001b[0my\u001b[0m\u001b[1;33m)\u001b[0m\u001b[1;33m\u001b[0m\u001b[1;33m\u001b[0m\u001b[0m\n\u001b[0m\u001b[0;32m    180\u001b[0m \u001b[1;33m\u001b[0m\u001b[0m\n\u001b[0;32m    181\u001b[0m     \u001b[1;32mdef\u001b[0m \u001b[0mpredict\u001b[0m\u001b[1;33m(\u001b[0m\u001b[0mself\u001b[0m\u001b[1;33m,\u001b[0m \u001b[0mX\u001b[0m\u001b[1;33m)\u001b[0m\u001b[1;33m:\u001b[0m\u001b[1;33m\u001b[0m\u001b[1;33m\u001b[0m\u001b[0m\n",
      "\u001b[1;32m~\\anaconda3\\lib\\site-packages\\sklearn\\neighbors\\_base.py\u001b[0m in \u001b[0;36m_fit\u001b[1;34m(self, X, y)\u001b[0m\n\u001b[0;32m    361\u001b[0m         \u001b[1;32mif\u001b[0m \u001b[0mself\u001b[0m\u001b[1;33m.\u001b[0m\u001b[0m_get_tags\u001b[0m\u001b[1;33m(\u001b[0m\u001b[1;33m)\u001b[0m\u001b[1;33m[\u001b[0m\u001b[1;34m\"requires_y\"\u001b[0m\u001b[1;33m]\u001b[0m\u001b[1;33m:\u001b[0m\u001b[1;33m\u001b[0m\u001b[1;33m\u001b[0m\u001b[0m\n\u001b[0;32m    362\u001b[0m             \u001b[1;32mif\u001b[0m \u001b[1;32mnot\u001b[0m \u001b[0misinstance\u001b[0m\u001b[1;33m(\u001b[0m\u001b[0mX\u001b[0m\u001b[1;33m,\u001b[0m \u001b[1;33m(\u001b[0m\u001b[0mKDTree\u001b[0m\u001b[1;33m,\u001b[0m \u001b[0mBallTree\u001b[0m\u001b[1;33m,\u001b[0m \u001b[0mNeighborsBase\u001b[0m\u001b[1;33m)\u001b[0m\u001b[1;33m)\u001b[0m\u001b[1;33m:\u001b[0m\u001b[1;33m\u001b[0m\u001b[1;33m\u001b[0m\u001b[0m\n\u001b[1;32m--> 363\u001b[1;33m                 X, y = self._validate_data(X, y, accept_sparse=\"csr\",\n\u001b[0m\u001b[0;32m    364\u001b[0m                                            multi_output=True)\n\u001b[0;32m    365\u001b[0m \u001b[1;33m\u001b[0m\u001b[0m\n",
      "\u001b[1;32m~\\anaconda3\\lib\\site-packages\\sklearn\\base.py\u001b[0m in \u001b[0;36m_validate_data\u001b[1;34m(self, X, y, reset, validate_separately, **check_params)\u001b[0m\n\u001b[0;32m    431\u001b[0m                 \u001b[0my\u001b[0m \u001b[1;33m=\u001b[0m \u001b[0mcheck_array\u001b[0m\u001b[1;33m(\u001b[0m\u001b[0my\u001b[0m\u001b[1;33m,\u001b[0m \u001b[1;33m**\u001b[0m\u001b[0mcheck_y_params\u001b[0m\u001b[1;33m)\u001b[0m\u001b[1;33m\u001b[0m\u001b[1;33m\u001b[0m\u001b[0m\n\u001b[0;32m    432\u001b[0m             \u001b[1;32melse\u001b[0m\u001b[1;33m:\u001b[0m\u001b[1;33m\u001b[0m\u001b[1;33m\u001b[0m\u001b[0m\n\u001b[1;32m--> 433\u001b[1;33m                 \u001b[0mX\u001b[0m\u001b[1;33m,\u001b[0m \u001b[0my\u001b[0m \u001b[1;33m=\u001b[0m \u001b[0mcheck_X_y\u001b[0m\u001b[1;33m(\u001b[0m\u001b[0mX\u001b[0m\u001b[1;33m,\u001b[0m \u001b[0my\u001b[0m\u001b[1;33m,\u001b[0m \u001b[1;33m**\u001b[0m\u001b[0mcheck_params\u001b[0m\u001b[1;33m)\u001b[0m\u001b[1;33m\u001b[0m\u001b[1;33m\u001b[0m\u001b[0m\n\u001b[0m\u001b[0;32m    434\u001b[0m             \u001b[0mout\u001b[0m \u001b[1;33m=\u001b[0m \u001b[0mX\u001b[0m\u001b[1;33m,\u001b[0m \u001b[0my\u001b[0m\u001b[1;33m\u001b[0m\u001b[1;33m\u001b[0m\u001b[0m\n\u001b[0;32m    435\u001b[0m \u001b[1;33m\u001b[0m\u001b[0m\n",
      "\u001b[1;32m~\\anaconda3\\lib\\site-packages\\sklearn\\utils\\validation.py\u001b[0m in \u001b[0;36minner_f\u001b[1;34m(*args, **kwargs)\u001b[0m\n\u001b[0;32m     61\u001b[0m             \u001b[0mextra_args\u001b[0m \u001b[1;33m=\u001b[0m \u001b[0mlen\u001b[0m\u001b[1;33m(\u001b[0m\u001b[0margs\u001b[0m\u001b[1;33m)\u001b[0m \u001b[1;33m-\u001b[0m \u001b[0mlen\u001b[0m\u001b[1;33m(\u001b[0m\u001b[0mall_args\u001b[0m\u001b[1;33m)\u001b[0m\u001b[1;33m\u001b[0m\u001b[1;33m\u001b[0m\u001b[0m\n\u001b[0;32m     62\u001b[0m             \u001b[1;32mif\u001b[0m \u001b[0mextra_args\u001b[0m \u001b[1;33m<=\u001b[0m \u001b[1;36m0\u001b[0m\u001b[1;33m:\u001b[0m\u001b[1;33m\u001b[0m\u001b[1;33m\u001b[0m\u001b[0m\n\u001b[1;32m---> 63\u001b[1;33m                 \u001b[1;32mreturn\u001b[0m \u001b[0mf\u001b[0m\u001b[1;33m(\u001b[0m\u001b[1;33m*\u001b[0m\u001b[0margs\u001b[0m\u001b[1;33m,\u001b[0m \u001b[1;33m**\u001b[0m\u001b[0mkwargs\u001b[0m\u001b[1;33m)\u001b[0m\u001b[1;33m\u001b[0m\u001b[1;33m\u001b[0m\u001b[0m\n\u001b[0m\u001b[0;32m     64\u001b[0m \u001b[1;33m\u001b[0m\u001b[0m\n\u001b[0;32m     65\u001b[0m             \u001b[1;31m# extra_args > 0\u001b[0m\u001b[1;33m\u001b[0m\u001b[1;33m\u001b[0m\u001b[1;33m\u001b[0m\u001b[0m\n",
      "\u001b[1;32m~\\anaconda3\\lib\\site-packages\\sklearn\\utils\\validation.py\u001b[0m in \u001b[0;36mcheck_X_y\u001b[1;34m(X, y, accept_sparse, accept_large_sparse, dtype, order, copy, force_all_finite, ensure_2d, allow_nd, multi_output, ensure_min_samples, ensure_min_features, y_numeric, estimator)\u001b[0m\n\u001b[0;32m    829\u001b[0m         \u001b[0my\u001b[0m \u001b[1;33m=\u001b[0m \u001b[0my\u001b[0m\u001b[1;33m.\u001b[0m\u001b[0mastype\u001b[0m\u001b[1;33m(\u001b[0m\u001b[0mnp\u001b[0m\u001b[1;33m.\u001b[0m\u001b[0mfloat64\u001b[0m\u001b[1;33m)\u001b[0m\u001b[1;33m\u001b[0m\u001b[1;33m\u001b[0m\u001b[0m\n\u001b[0;32m    830\u001b[0m \u001b[1;33m\u001b[0m\u001b[0m\n\u001b[1;32m--> 831\u001b[1;33m     \u001b[0mcheck_consistent_length\u001b[0m\u001b[1;33m(\u001b[0m\u001b[0mX\u001b[0m\u001b[1;33m,\u001b[0m \u001b[0my\u001b[0m\u001b[1;33m)\u001b[0m\u001b[1;33m\u001b[0m\u001b[1;33m\u001b[0m\u001b[0m\n\u001b[0m\u001b[0;32m    832\u001b[0m \u001b[1;33m\u001b[0m\u001b[0m\n\u001b[0;32m    833\u001b[0m     \u001b[1;32mreturn\u001b[0m \u001b[0mX\u001b[0m\u001b[1;33m,\u001b[0m \u001b[0my\u001b[0m\u001b[1;33m\u001b[0m\u001b[1;33m\u001b[0m\u001b[0m\n",
      "\u001b[1;32m~\\anaconda3\\lib\\site-packages\\sklearn\\utils\\validation.py\u001b[0m in \u001b[0;36mcheck_consistent_length\u001b[1;34m(*arrays)\u001b[0m\n\u001b[0;32m    260\u001b[0m     \u001b[0muniques\u001b[0m \u001b[1;33m=\u001b[0m \u001b[0mnp\u001b[0m\u001b[1;33m.\u001b[0m\u001b[0munique\u001b[0m\u001b[1;33m(\u001b[0m\u001b[0mlengths\u001b[0m\u001b[1;33m)\u001b[0m\u001b[1;33m\u001b[0m\u001b[1;33m\u001b[0m\u001b[0m\n\u001b[0;32m    261\u001b[0m     \u001b[1;32mif\u001b[0m \u001b[0mlen\u001b[0m\u001b[1;33m(\u001b[0m\u001b[0muniques\u001b[0m\u001b[1;33m)\u001b[0m \u001b[1;33m>\u001b[0m \u001b[1;36m1\u001b[0m\u001b[1;33m:\u001b[0m\u001b[1;33m\u001b[0m\u001b[1;33m\u001b[0m\u001b[0m\n\u001b[1;32m--> 262\u001b[1;33m         raise ValueError(\"Found input variables with inconsistent numbers of\"\n\u001b[0m\u001b[0;32m    263\u001b[0m                          \" samples: %r\" % [int(l) for l in lengths])\n\u001b[0;32m    264\u001b[0m \u001b[1;33m\u001b[0m\u001b[0m\n",
      "\u001b[1;31mValueError\u001b[0m: Found input variables with inconsistent numbers of samples: [965361, 801]"
     ]
    }
   ],
   "source": [
    "nbrs_3.fit(cols, dfP[\"base_total\"])"
   ]
  },
  {
   "cell_type": "code",
   "execution_count": null,
   "id": "b6211c33-c270-4205-a4b1-93be897b88e9",
   "metadata": {},
   "outputs": [],
   "source": []
  }
 ],
 "metadata": {
  "kernelspec": {
   "display_name": "Python 3",
   "language": "python",
   "name": "python3"
  },
  "language_info": {
   "codemirror_mode": {
    "name": "ipython",
    "version": 3
   },
   "file_extension": ".py",
   "mimetype": "text/x-python",
   "name": "python",
   "nbconvert_exporter": "python",
   "pygments_lexer": "ipython3",
   "version": "3.8.8"
  }
 },
 "nbformat": 4,
 "nbformat_minor": 5
}
